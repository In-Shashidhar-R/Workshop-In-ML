{
 "cells": [
  {
   "cell_type": "code",
   "execution_count": 1,
   "id": "7c2964e0-e5cd-42ea-b13c-d853be0e947a",
   "metadata": {},
   "outputs": [
    {
     "data": {
      "text/plain": [
       "0    10\n",
       "1    20\n",
       "2    30\n",
       "3    40\n",
       "4    50\n",
       "dtype: int64"
      ]
     },
     "execution_count": 1,
     "metadata": {},
     "output_type": "execute_result"
    }
   ],
   "source": [
    "import numpy as np\n",
    "import pandas as pd\n",
    "l=[10,20,30,40,50]\n",
    "s1=pd.Series(data=l)\n",
    "s1"
   ]
  },
  {
   "cell_type": "code",
   "execution_count": 2,
   "id": "dbbf5f14-a312-4b9e-8c58-12e009c5cb0e",
   "metadata": {},
   "outputs": [
    {
     "data": {
      "text/plain": [
       "a    10\n",
       "b    20\n",
       "c    30\n",
       "d    40\n",
       "e    50\n",
       "dtype: int64"
      ]
     },
     "execution_count": 2,
     "metadata": {},
     "output_type": "execute_result"
    }
   ],
   "source": [
    "s2=pd.Series(data=l,index=['a','b','c','d','e',])\n",
    "s2"
   ]
  },
  {
   "cell_type": "code",
   "execution_count": 3,
   "id": "bc7ebbba-b256-45f2-b706-c79e0acb5c53",
   "metadata": {},
   "outputs": [
    {
     "data": {
      "text/plain": [
       "pandas.core.series.Series"
      ]
     },
     "execution_count": 3,
     "metadata": {},
     "output_type": "execute_result"
    }
   ],
   "source": [
    "type(s1)"
   ]
  },
  {
   "cell_type": "code",
   "execution_count": 4,
   "id": "4ba842ea-2c9b-475f-90f8-870f01d6bfd9",
   "metadata": {},
   "outputs": [
    {
     "data": {
      "text/plain": [
       "array([[ 0.89153085,  0.4670306 , -0.36677217,  0.85309925],\n",
       "       [ 2.23635857, -0.25656335,  1.34054222,  0.14396901],\n",
       "       [-1.4174246 ,  0.27723465, -0.48795052, -1.58617541],\n",
       "       [ 0.10760771,  0.05915061,  0.99295036, -0.04088779],\n",
       "       [ 0.34136744,  0.90862947, -1.26549109, -0.54223029]])"
      ]
     },
     "execution_count": 4,
     "metadata": {},
     "output_type": "execute_result"
    }
   ],
   "source": [
    "a=np.random.randn(5,4)\n",
    "a"
   ]
  },
  {
   "cell_type": "code",
   "execution_count": 5,
   "id": "d65ee6f8-85c4-48fc-99ec-9bb6f74cd0b7",
   "metadata": {},
   "outputs": [
    {
     "data": {
      "text/html": [
       "<div>\n",
       "<style scoped>\n",
       "    .dataframe tbody tr th:only-of-type {\n",
       "        vertical-align: middle;\n",
       "    }\n",
       "\n",
       "    .dataframe tbody tr th {\n",
       "        vertical-align: top;\n",
       "    }\n",
       "\n",
       "    .dataframe thead th {\n",
       "        text-align: right;\n",
       "    }\n",
       "</style>\n",
       "<table border=\"1\" class=\"dataframe\">\n",
       "  <thead>\n",
       "    <tr style=\"text-align: right;\">\n",
       "      <th></th>\n",
       "      <th>W</th>\n",
       "      <th>X</th>\n",
       "      <th>Y</th>\n",
       "      <th>Z</th>\n",
       "    </tr>\n",
       "  </thead>\n",
       "  <tbody>\n",
       "    <tr>\n",
       "      <th>A</th>\n",
       "      <td>2.265122</td>\n",
       "      <td>0.164723</td>\n",
       "      <td>0.615347</td>\n",
       "      <td>0.077244</td>\n",
       "    </tr>\n",
       "    <tr>\n",
       "      <th>B</th>\n",
       "      <td>-0.045296</td>\n",
       "      <td>-0.014547</td>\n",
       "      <td>0.763957</td>\n",
       "      <td>1.370160</td>\n",
       "    </tr>\n",
       "    <tr>\n",
       "      <th>C</th>\n",
       "      <td>1.063371</td>\n",
       "      <td>-0.076554</td>\n",
       "      <td>-0.164571</td>\n",
       "      <td>0.676028</td>\n",
       "    </tr>\n",
       "    <tr>\n",
       "      <th>D</th>\n",
       "      <td>-0.559603</td>\n",
       "      <td>0.131486</td>\n",
       "      <td>-0.506876</td>\n",
       "      <td>-0.040699</td>\n",
       "    </tr>\n",
       "    <tr>\n",
       "      <th>E</th>\n",
       "      <td>2.048696</td>\n",
       "      <td>-1.201482</td>\n",
       "      <td>-0.070415</td>\n",
       "      <td>-1.835649</td>\n",
       "    </tr>\n",
       "  </tbody>\n",
       "</table>\n",
       "</div>"
      ],
      "text/plain": [
       "          W         X         Y         Z\n",
       "A  2.265122  0.164723  0.615347  0.077244\n",
       "B -0.045296 -0.014547  0.763957  1.370160\n",
       "C  1.063371 -0.076554 -0.164571  0.676028\n",
       "D -0.559603  0.131486 -0.506876 -0.040699\n",
       "E  2.048696 -1.201482 -0.070415 -1.835649"
      ]
     },
     "execution_count": 5,
     "metadata": {},
     "output_type": "execute_result"
    }
   ],
   "source": [
    "a=pd.DataFrame(np.random.randn(5,4),['A','B','C','D','E'],['W','X','Y','Z'])\n",
    "a"
   ]
  },
  {
   "cell_type": "code",
   "execution_count": 6,
   "id": "dd4524fc-28c2-4b66-bb84-17d184b24607",
   "metadata": {},
   "outputs": [
    {
     "data": {
      "text/plain": [
       "0.6153473026790861"
      ]
     },
     "execution_count": 6,
     "metadata": {},
     "output_type": "execute_result"
    }
   ],
   "source": [
    "a.Y['A']\n"
   ]
  },
  {
   "cell_type": "code",
   "execution_count": 7,
   "id": "4dfd2b88-28a7-4084-ab66-a89c181d43ca",
   "metadata": {},
   "outputs": [
    {
     "data": {
      "text/plain": [
       "0.6760278115725964"
      ]
     },
     "execution_count": 7,
     "metadata": {},
     "output_type": "execute_result"
    }
   ],
   "source": [
    "a.Z['C']"
   ]
  },
  {
   "cell_type": "code",
   "execution_count": 8,
   "id": "d1869059-3361-46ef-a353-5e769cca3eff",
   "metadata": {},
   "outputs": [
    {
     "data": {
      "text/html": [
       "<div>\n",
       "<style scoped>\n",
       "    .dataframe tbody tr th:only-of-type {\n",
       "        vertical-align: middle;\n",
       "    }\n",
       "\n",
       "    .dataframe tbody tr th {\n",
       "        vertical-align: top;\n",
       "    }\n",
       "\n",
       "    .dataframe thead th {\n",
       "        text-align: right;\n",
       "    }\n",
       "</style>\n",
       "<table border=\"1\" class=\"dataframe\">\n",
       "  <thead>\n",
       "    <tr style=\"text-align: right;\">\n",
       "      <th></th>\n",
       "      <th>W</th>\n",
       "      <th>Z</th>\n",
       "    </tr>\n",
       "  </thead>\n",
       "  <tbody>\n",
       "    <tr>\n",
       "      <th>A</th>\n",
       "      <td>2.265122</td>\n",
       "      <td>0.077244</td>\n",
       "    </tr>\n",
       "    <tr>\n",
       "      <th>B</th>\n",
       "      <td>-0.045296</td>\n",
       "      <td>1.370160</td>\n",
       "    </tr>\n",
       "    <tr>\n",
       "      <th>C</th>\n",
       "      <td>1.063371</td>\n",
       "      <td>0.676028</td>\n",
       "    </tr>\n",
       "    <tr>\n",
       "      <th>D</th>\n",
       "      <td>-0.559603</td>\n",
       "      <td>-0.040699</td>\n",
       "    </tr>\n",
       "    <tr>\n",
       "      <th>E</th>\n",
       "      <td>2.048696</td>\n",
       "      <td>-1.835649</td>\n",
       "    </tr>\n",
       "  </tbody>\n",
       "</table>\n",
       "</div>"
      ],
      "text/plain": [
       "          W         Z\n",
       "A  2.265122  0.077244\n",
       "B -0.045296  1.370160\n",
       "C  1.063371  0.676028\n",
       "D -0.559603 -0.040699\n",
       "E  2.048696 -1.835649"
      ]
     },
     "execution_count": 8,
     "metadata": {},
     "output_type": "execute_result"
    }
   ],
   "source": [
    "a[['W','Z']]"
   ]
  },
  {
   "cell_type": "code",
   "execution_count": 9,
   "id": "072d6fe3-da76-480e-8f84-a8c4d1af3fbc",
   "metadata": {},
   "outputs": [
    {
     "name": "stdout",
     "output_type": "stream",
     "text": [
      "W    2.265122\n",
      "X    0.164723\n",
      "Y    0.615347\n",
      "Z    0.077244\n",
      "Name: A, dtype: float64\n"
     ]
    }
   ],
   "source": [
    "#Accessing data with index values - Use loc\n",
    "print(a.loc[\"A\"])"
   ]
  },
  {
   "cell_type": "code",
   "execution_count": 10,
   "id": "4b88d355-5261-462f-b51d-cf048a2fdc3d",
   "metadata": {},
   "outputs": [
    {
     "name": "stdout",
     "output_type": "stream",
     "text": [
      "W    2.265122\n",
      "X    0.164723\n",
      "Y    0.615347\n",
      "Z    0.077244\n",
      "Name: A, dtype: float64\n"
     ]
    }
   ],
   "source": [
    "#Acdessing data with index - use i loc \n",
    "print(a.iloc[0])"
   ]
  },
  {
   "cell_type": "code",
   "execution_count": 11,
   "id": "49f16981-0715-4be7-a07d-b567beaaf040",
   "metadata": {},
   "outputs": [
    {
     "name": "stderr",
     "output_type": "stream",
     "text": [
      "/home/u204867/.local/lib/python3.9/site-packages/pandas/io/formats/format.py:1595: RuntimeWarning: invalid value encountered in greater\n",
      "  has_large_values = (abs_vals > 1e6).any()\n",
      "/home/u204867/.local/lib/python3.9/site-packages/pandas/io/formats/format.py:1596: RuntimeWarning: invalid value encountered in less\n",
      "  has_small_values = ((abs_vals < 10 ** (-self.digits)) & (abs_vals > 0)).any()\n",
      "/home/u204867/.local/lib/python3.9/site-packages/pandas/io/formats/format.py:1596: RuntimeWarning: invalid value encountered in greater\n",
      "  has_small_values = ((abs_vals < 10 ** (-self.digits)) & (abs_vals > 0)).any()\n"
     ]
    },
    {
     "data": {
      "text/html": [
       "<div>\n",
       "<style scoped>\n",
       "    .dataframe tbody tr th:only-of-type {\n",
       "        vertical-align: middle;\n",
       "    }\n",
       "\n",
       "    .dataframe tbody tr th {\n",
       "        vertical-align: top;\n",
       "    }\n",
       "\n",
       "    .dataframe thead th {\n",
       "        text-align: right;\n",
       "    }\n",
       "</style>\n",
       "<table border=\"1\" class=\"dataframe\">\n",
       "  <thead>\n",
       "    <tr style=\"text-align: right;\">\n",
       "      <th></th>\n",
       "      <th>W</th>\n",
       "      <th>X</th>\n",
       "      <th>Y</th>\n",
       "      <th>Z</th>\n",
       "    </tr>\n",
       "  </thead>\n",
       "  <tbody>\n",
       "    <tr>\n",
       "      <th>A</th>\n",
       "      <td>2.265122</td>\n",
       "      <td>0.164723</td>\n",
       "      <td>0.615347</td>\n",
       "      <td>0.077244</td>\n",
       "    </tr>\n",
       "    <tr>\n",
       "      <th>B</th>\n",
       "      <td>NaN</td>\n",
       "      <td>NaN</td>\n",
       "      <td>0.763957</td>\n",
       "      <td>1.370160</td>\n",
       "    </tr>\n",
       "    <tr>\n",
       "      <th>C</th>\n",
       "      <td>1.063371</td>\n",
       "      <td>NaN</td>\n",
       "      <td>NaN</td>\n",
       "      <td>0.676028</td>\n",
       "    </tr>\n",
       "    <tr>\n",
       "      <th>D</th>\n",
       "      <td>NaN</td>\n",
       "      <td>0.131486</td>\n",
       "      <td>NaN</td>\n",
       "      <td>NaN</td>\n",
       "    </tr>\n",
       "    <tr>\n",
       "      <th>E</th>\n",
       "      <td>2.048696</td>\n",
       "      <td>NaN</td>\n",
       "      <td>NaN</td>\n",
       "      <td>NaN</td>\n",
       "    </tr>\n",
       "  </tbody>\n",
       "</table>\n",
       "</div>"
      ],
      "text/plain": [
       "          W         X         Y         Z\n",
       "A  2.265122  0.164723  0.615347  0.077244\n",
       "B       NaN       NaN  0.763957  1.370160\n",
       "C  1.063371       NaN       NaN  0.676028\n",
       "D       NaN  0.131486       NaN       NaN\n",
       "E  2.048696       NaN       NaN       NaN"
      ]
     },
     "execution_count": 11,
     "metadata": {},
     "output_type": "execute_result"
    }
   ],
   "source": [
    "#subsetting based on boolean condition\n",
    "a[a>0]\n",
    "#a>0"
   ]
  },
  {
   "cell_type": "code",
   "execution_count": 12,
   "id": "3b692662-4963-4fae-ac13-3fd243c603ca",
   "metadata": {},
   "outputs": [
    {
     "name": "stdout",
     "output_type": "stream",
     "text": [
      "          X         Y         Z\n",
      "A  0.164723  0.615347  0.077244\n",
      "B -0.014547  0.763957  1.370160\n",
      "C -0.076554 -0.164571  0.676028\n",
      "D  0.131486 -0.506876 -0.040699\n",
      "E -1.201482 -0.070415 -1.835649\n"
     ]
    }
   ],
   "source": [
    "#dropping rows and columns by drop method \n",
    "#print(a.drop('a',axis=0,inplace=False))\n",
    "print(a.drop('W',axis=1,inplace=False))\n",
    "#a.drop('A',axis=0,inplace=True)\n",
    "#print(a)"
   ]
  },
  {
   "cell_type": "code",
   "execution_count": 13,
   "id": "53a324a4-0a76-47bd-82a6-26e0effb7677",
   "metadata": {},
   "outputs": [
    {
     "name": "stdout",
     "output_type": "stream",
     "text": [
      "          W         X         Y         Z\n",
      "A  2.265122  0.164723  0.615347  0.077244\n",
      "C  1.063371 -0.076554 -0.164571  0.676028\n",
      "D -0.559603  0.131486 -0.506876 -0.040699\n",
      "E  2.048696 -1.201482 -0.070415 -1.835649\n"
     ]
    }
   ],
   "source": [
    "#dropping rows and columns by drop method \n",
    "#print(a.drop('a',axis=0,inplace=False))\n",
    "#print(a.drop('W',axis=1,inplace=False))\n",
    "a.drop('B',axis=0,inplace=True)\n",
    "print(a)"
   ]
  },
  {
   "cell_type": "code",
   "execution_count": 14,
   "id": "b37d8c11-f315-4c6c-863f-5b59f5117476",
   "metadata": {},
   "outputs": [
    {
     "name": "stdout",
     "output_type": "stream",
     "text": [
      "          W         X         Y         Z\n",
      "A  2.265122  0.164723  0.615347  0.077244\n",
      "D -0.559603  0.131486 -0.506876 -0.040699\n",
      "E  2.048696 -1.201482 -0.070415 -1.835649\n"
     ]
    }
   ],
   "source": [
    "#dropping rows and columns by drop method \n",
    "print(a.drop('C',axis=0,inplace=False))\n",
    "#print(a.drop('W',axis=1,inplace=False))\n",
    "#a.drop('A',axis=0,inplace=True)\n",
    "#print(a)"
   ]
  },
  {
   "cell_type": "code",
   "execution_count": 15,
   "id": "a0791bff-1605-4591-bacd-c2085b59540e",
   "metadata": {},
   "outputs": [
    {
     "data": {
      "text/html": [
       "<div>\n",
       "<style scoped>\n",
       "    .dataframe tbody tr th:only-of-type {\n",
       "        vertical-align: middle;\n",
       "    }\n",
       "\n",
       "    .dataframe tbody tr th {\n",
       "        vertical-align: top;\n",
       "    }\n",
       "\n",
       "    .dataframe thead th {\n",
       "        text-align: right;\n",
       "    }\n",
       "</style>\n",
       "<table border=\"1\" class=\"dataframe\">\n",
       "  <thead>\n",
       "    <tr style=\"text-align: right;\">\n",
       "      <th></th>\n",
       "      <th>A</th>\n",
       "      <th>B</th>\n",
       "      <th>C</th>\n",
       "    </tr>\n",
       "  </thead>\n",
       "  <tbody>\n",
       "    <tr>\n",
       "      <th>0</th>\n",
       "      <td>1.0</td>\n",
       "      <td>1.0</td>\n",
       "      <td>1</td>\n",
       "    </tr>\n",
       "  </tbody>\n",
       "</table>\n",
       "</div>"
      ],
      "text/plain": [
       "     A    B  C\n",
       "0  1.0  1.0  1"
      ]
     },
     "execution_count": 15,
     "metadata": {},
     "output_type": "execute_result"
    }
   ],
   "source": [
    "#dropping missing values\n",
    "d={'A':[1,2,np.NAN], 'B':[1,np.NaN,np.NaN], 'C':[1,2,3]}\n",
    "#np.NAN is the missing element in DataFrame \n",
    "a=pd.DataFrame(d)\n",
    "#print(a)\n",
    "a.dropna()\n",
    "#df5.dropna(axis=1)\n",
    "#df5.dropna(thresh=2)"
   ]
  },
  {
   "cell_type": "code",
   "execution_count": 16,
   "id": "14d14b15-da3e-4f4c-bcfa-5dd6561118be",
   "metadata": {},
   "outputs": [
    {
     "name": "stderr",
     "output_type": "stream",
     "text": [
      "/home/u204867/.local/lib/python3.9/site-packages/pandas/io/formats/format.py:1595: RuntimeWarning: invalid value encountered in greater\n",
      "  has_large_values = (abs_vals > 1e6).any()\n",
      "/home/u204867/.local/lib/python3.9/site-packages/pandas/io/formats/format.py:1596: RuntimeWarning: invalid value encountered in less\n",
      "  has_small_values = ((abs_vals < 10 ** (-self.digits)) & (abs_vals > 0)).any()\n",
      "/home/u204867/.local/lib/python3.9/site-packages/pandas/io/formats/format.py:1596: RuntimeWarning: invalid value encountered in greater\n",
      "  has_small_values = ((abs_vals < 10 ** (-self.digits)) & (abs_vals > 0)).any()\n"
     ]
    },
    {
     "data": {
      "text/html": [
       "<div>\n",
       "<style scoped>\n",
       "    .dataframe tbody tr th:only-of-type {\n",
       "        vertical-align: middle;\n",
       "    }\n",
       "\n",
       "    .dataframe tbody tr th {\n",
       "        vertical-align: top;\n",
       "    }\n",
       "\n",
       "    .dataframe thead th {\n",
       "        text-align: right;\n",
       "    }\n",
       "</style>\n",
       "<table border=\"1\" class=\"dataframe\">\n",
       "  <thead>\n",
       "    <tr style=\"text-align: right;\">\n",
       "      <th></th>\n",
       "      <th>A</th>\n",
       "      <th>B</th>\n",
       "      <th>C</th>\n",
       "    </tr>\n",
       "  </thead>\n",
       "  <tbody>\n",
       "    <tr>\n",
       "      <th>0</th>\n",
       "      <td>1.0</td>\n",
       "      <td>1.0</td>\n",
       "      <td>1</td>\n",
       "    </tr>\n",
       "    <tr>\n",
       "      <th>1</th>\n",
       "      <td>2.0</td>\n",
       "      <td>NaN</td>\n",
       "      <td>2</td>\n",
       "    </tr>\n",
       "  </tbody>\n",
       "</table>\n",
       "</div>"
      ],
      "text/plain": [
       "     A    B  C\n",
       "0  1.0  1.0  1\n",
       "1  2.0  NaN  2"
      ]
     },
     "execution_count": 16,
     "metadata": {},
     "output_type": "execute_result"
    }
   ],
   "source": [
    "#dropping missing values\n",
    "d={'A':[1,2,np.NAN], 'B':[1,np.NaN,np.NaN], 'C':[1,2,3]}\n",
    "#np.NAN is the missing element in DataFrame \n",
    "a=pd.DataFrame(d)\n",
    "#print(a)\n",
    "#a.dropna()\n",
    "#a.dropna(axis=1)\n",
    "a.dropna(thresh=2)"
   ]
  },
  {
   "cell_type": "code",
   "execution_count": 17,
   "id": "d7b3a917-ce26-4cb3-aa81-3d050acf3d94",
   "metadata": {},
   "outputs": [
    {
     "data": {
      "text/html": [
       "<div>\n",
       "<style scoped>\n",
       "    .dataframe tbody tr th:only-of-type {\n",
       "        vertical-align: middle;\n",
       "    }\n",
       "\n",
       "    .dataframe tbody tr th {\n",
       "        vertical-align: top;\n",
       "    }\n",
       "\n",
       "    .dataframe thead th {\n",
       "        text-align: right;\n",
       "    }\n",
       "</style>\n",
       "<table border=\"1\" class=\"dataframe\">\n",
       "  <thead>\n",
       "    <tr style=\"text-align: right;\">\n",
       "      <th></th>\n",
       "      <th>C</th>\n",
       "    </tr>\n",
       "  </thead>\n",
       "  <tbody>\n",
       "    <tr>\n",
       "      <th>0</th>\n",
       "      <td>1</td>\n",
       "    </tr>\n",
       "    <tr>\n",
       "      <th>1</th>\n",
       "      <td>2</td>\n",
       "    </tr>\n",
       "    <tr>\n",
       "      <th>2</th>\n",
       "      <td>3</td>\n",
       "    </tr>\n",
       "  </tbody>\n",
       "</table>\n",
       "</div>"
      ],
      "text/plain": [
       "   C\n",
       "0  1\n",
       "1  2\n",
       "2  3"
      ]
     },
     "execution_count": 17,
     "metadata": {},
     "output_type": "execute_result"
    }
   ],
   "source": [
    "#dropping missing values\n",
    "d={'A':[1,2,np.NAN], 'B':[1,np.NaN,np.NaN], 'C':[1,2,3]}\n",
    "#np.NAN is the missing element in DataFrame \n",
    "a=pd.DataFrame(d)\n",
    "#print(a)\n",
    "#a.dropna()\n",
    "a.dropna(axis=1)\n",
    "#a.dropna(thresh=2)"
   ]
  },
  {
   "cell_type": "code",
   "execution_count": 18,
   "id": "ea3b0607-c3d4-4a71-b81a-60c299e3e6f2",
   "metadata": {},
   "outputs": [
    {
     "name": "stdout",
     "output_type": "stream",
     "text": [
      "     A    B  C\n",
      "0  1.0  1.0  1\n",
      "1  2.0  NaN  2\n",
      "2  NaN  NaN  3\n"
     ]
    },
    {
     "name": "stderr",
     "output_type": "stream",
     "text": [
      "/home/u204867/.local/lib/python3.9/site-packages/pandas/io/formats/format.py:1595: RuntimeWarning: invalid value encountered in greater\n",
      "  has_large_values = (abs_vals > 1e6).any()\n",
      "/home/u204867/.local/lib/python3.9/site-packages/pandas/io/formats/format.py:1596: RuntimeWarning: invalid value encountered in less\n",
      "  has_small_values = ((abs_vals < 10 ** (-self.digits)) & (abs_vals > 0)).any()\n",
      "/home/u204867/.local/lib/python3.9/site-packages/pandas/io/formats/format.py:1596: RuntimeWarning: invalid value encountered in greater\n",
      "  has_small_values = ((abs_vals < 10 ** (-self.digits)) & (abs_vals > 0)).any()\n"
     ]
    },
    {
     "data": {
      "text/plain": [
       "0    1.0\n",
       "1    2.0\n",
       "2    1.5\n",
       "Name: A, dtype: float64"
      ]
     },
     "execution_count": 18,
     "metadata": {},
     "output_type": "execute_result"
    }
   ],
   "source": [
    "#Filling missing values with something \n",
    "print(a)\n",
    "a['A'].fillna(value=a['A'].mean())"
   ]
  },
  {
   "cell_type": "code",
   "execution_count": 19,
   "id": "dc334a20-dd37-4569-8b71-5c6ad763b966",
   "metadata": {},
   "outputs": [
    {
     "name": "stdout",
     "output_type": "stream",
     "text": [
      "<class 'pandas.core.frame.DataFrame'>\n"
     ]
    }
   ],
   "source": [
    "#Reading from a file \n",
    "a = pd.read_csv(\"data9.csv\")\n",
    "print(type(a))"
   ]
  },
  {
   "cell_type": "code",
   "execution_count": 20,
   "id": "58383bdc-3b6e-4d1a-a396-1630ee021725",
   "metadata": {},
   "outputs": [
    {
     "name": "stdout",
     "output_type": "stream",
     "text": [
      "<class 'pandas.core.frame.DataFrame'>\n"
     ]
    }
   ],
   "source": [
    "#Reading from a file \n",
    "a = pd.read_csv(\"test1.csv\")\n",
    "print(type(a))"
   ]
  },
  {
   "cell_type": "code",
   "execution_count": 21,
   "id": "c80922b6-9441-4cc2-a43b-8d730510d9e8",
   "metadata": {},
   "outputs": [
    {
     "name": "stdout",
     "output_type": "stream",
     "text": [
      "      Gender     Height      Weight\n",
      "0       Male  73.847017  241.893563\n",
      "1       Male  68.781904  162.310473\n",
      "2       Male  74.110105  212.740856\n",
      "3       Male  71.730978  220.042470\n",
      "4       Male  69.881796  206.349801\n",
      "...      ...        ...         ...\n",
      "9995  Female  66.172652  136.777454\n",
      "9996  Female  67.067155  170.867906\n",
      "9997  Female  63.867992  128.475319\n",
      "9998  Female  69.034243  163.852461\n",
      "9999  Female  61.944246  113.649103\n",
      "\n",
      "[10000 rows x 3 columns]\n"
     ]
    }
   ],
   "source": [
    "print(a)"
   ]
  },
  {
   "cell_type": "code",
   "execution_count": null,
   "id": "78097e86-3680-47fa-bdda-ba5922ba9eb2",
   "metadata": {},
   "outputs": [],
   "source": []
  }
 ],
 "metadata": {
  "kernelspec": {
   "display_name": "Python 3 (Intel® oneAPI 2023.2)",
   "language": "python",
   "name": "c009-intel_distribution_of_python_3_oneapi-beta05-python"
  },
  "language_info": {
   "codemirror_mode": {
    "name": "ipython",
    "version": 3
   },
   "file_extension": ".py",
   "mimetype": "text/x-python",
   "name": "python",
   "nbconvert_exporter": "python",
   "pygments_lexer": "ipython3",
   "version": "3.9.16"
  }
 },
 "nbformat": 4,
 "nbformat_minor": 5
}
