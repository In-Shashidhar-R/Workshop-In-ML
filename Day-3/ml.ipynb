{
 "cells": [
  {
   "cell_type": "code",
   "execution_count": 14,
   "id": "df4fdcf7-061b-426c-b763-18d6ab4f3051",
   "metadata": {},
   "outputs": [
    {
     "name": "stdout",
     "output_type": "stream",
     "text": [
      "[0]\n",
      "[1]\n"
     ]
    }
   ],
   "source": [
    "import sklearnex\n",
    "from sklearn import tree\n",
    "features = [[140,1],[130,1],[150,0],[170,0]] #(0:bumpy ; 1:smooth) ; (0:apple ; 1:Orange).\n",
    "label = [0,0,1,1]\n",
    "clf = tree.DecisionTreeClassifier() # Creating a object for the Decision Tree Algorithm \n",
    "clf = clf.fit(features,label) \n",
    "print(clf.predict([[125,1]])) \n",
    "clf = tree.DecisionTreeClassifier() # Creating a object for the Decision Tree Algorithm \n",
    "clf = clf.fit(features,label) \n",
    "print(clf.predict([[150,0]]))"
   ]
  },
  {
   "cell_type": "code",
   "execution_count": null,
   "id": "58ad6a1e-3484-4a49-ae24-5dc90ec0e0e7",
   "metadata": {},
   "outputs": [],
   "source": []
  }
 ],
 "metadata": {
  "kernelspec": {
   "display_name": "Python 3 (Intel® oneAPI 2023.2)",
   "language": "python",
   "name": "c009-intel_distribution_of_python_3_oneapi-beta05-python"
  },
  "language_info": {
   "codemirror_mode": {
    "name": "ipython",
    "version": 3
   },
   "file_extension": ".py",
   "mimetype": "text/x-python",
   "name": "python",
   "nbconvert_exporter": "python",
   "pygments_lexer": "ipython3",
   "version": "3.9.16"
  }
 },
 "nbformat": 4,
 "nbformat_minor": 5
}
